{
 "cells": [
  {
   "cell_type": "markdown",
   "metadata": {},
   "source": [
    "# Prédiction des tags"
   ]
  },
  {
   "cell_type": "code",
   "execution_count": 1,
   "metadata": {},
   "outputs": [
    {
     "data": {
      "text/html": [
       "<div>\n",
       "<style scoped>\n",
       "    .dataframe tbody tr th:only-of-type {\n",
       "        vertical-align: middle;\n",
       "    }\n",
       "\n",
       "    .dataframe tbody tr th {\n",
       "        vertical-align: top;\n",
       "    }\n",
       "\n",
       "    .dataframe thead th {\n",
       "        text-align: right;\n",
       "    }\n",
       "</style>\n",
       "<table border=\"1\" class=\"dataframe\">\n",
       "  <thead>\n",
       "    <tr style=\"text-align: right;\">\n",
       "      <th></th>\n",
       "      <th>stem_words</th>\n",
       "      <th>imp_words</th>\n",
       "      <th>Tags</th>\n",
       "    </tr>\n",
       "  </thead>\n",
       "  <tbody>\n",
       "    <tr>\n",
       "      <th>0</th>\n",
       "      <td>convert decimal double c# want use track bar c...</td>\n",
       "      <td>convert decimal double c# want track bar chang...</td>\n",
       "      <td>c#  floating-point  type-conversion  double  ...</td>\n",
       "    </tr>\n",
       "    <tr>\n",
       "      <th>1</th>\n",
       "      <td>width collapse percentage width child element ...</td>\n",
       "      <td>width collapse percentage width child element ...</td>\n",
       "      <td>html  css  internet-explorer-7</td>\n",
       "    </tr>\n",
       "    <tr>\n",
       "      <th>2</th>\n",
       "      <td>calculate someone age base datetime type birth...</td>\n",
       "      <td>calculate someone age base datetime type give ...</td>\n",
       "      <td>c#  .net  datetime</td>\n",
       "    </tr>\n",
       "    <tr>\n",
       "      <th>3</th>\n",
       "      <td>calculate relative time c# give specific datet...</td>\n",
       "      <td>calculate relative time c# give specific datet...</td>\n",
       "      <td>c#  datetime  time  datediff  relative-time-s...</td>\n",
       "    </tr>\n",
       "    <tr>\n",
       "      <th>4</th>\n",
       "      <td>determine user timezone standards way web serv...</td>\n",
       "      <td>determine user timezone standards way web serv...</td>\n",
       "      <td>html  browser  timezone  user-agent  timezone...</td>\n",
       "    </tr>\n",
       "    <tr>\n",
       "      <th>...</th>\n",
       "      <td>...</td>\n",
       "      <td>...</td>\n",
       "      <td>...</td>\n",
       "    </tr>\n",
       "    <tr>\n",
       "      <th>29096</th>\n",
       "      <td>extract decimal part float point number extrac...</td>\n",
       "      <td>extract decimal part float point number extrac...</td>\n",
       "      <td>c  floating-point  decimal  numbers</td>\n",
       "    </tr>\n",
       "    <tr>\n",
       "      <th>29097</th>\n",
       "      <td>flash load twice workaround investigate report...</td>\n",
       "      <td>flash load twice workaround investigate report...</td>\n",
       "      <td>flash  swfobject</td>\n",
       "    </tr>\n",
       "    <tr>\n",
       "      <th>29098</th>\n",
       "      <td>etag vs header expire look around able figure ...</td>\n",
       "      <td>vs header expire look around able figure expir...</td>\n",
       "      <td>http  caching  etag  expires-header</td>\n",
       "    </tr>\n",
       "    <tr>\n",
       "      <th>29099</th>\n",
       "      <td>determine longest similar portion several stri...</td>\n",
       "      <td>determine similar portion several string per t...</td>\n",
       "      <td>perl  algorithm  string  similarity</td>\n",
       "    </tr>\n",
       "    <tr>\n",
       "      <th>29100</th>\n",
       "      <td>validation binary search tree read exercise in...</td>\n",
       "      <td>validation binary search tree read exercise in...</td>\n",
       "      <td>algorithm  data-structures  binary-search-tree</td>\n",
       "    </tr>\n",
       "  </tbody>\n",
       "</table>\n",
       "<p>29101 rows × 3 columns</p>\n",
       "</div>"
      ],
      "text/plain": [
       "                                              stem_words  \\\n",
       "0      convert decimal double c# want use track bar c...   \n",
       "1      width collapse percentage width child element ...   \n",
       "2      calculate someone age base datetime type birth...   \n",
       "3      calculate relative time c# give specific datet...   \n",
       "4      determine user timezone standards way web serv...   \n",
       "...                                                  ...   \n",
       "29096  extract decimal part float point number extrac...   \n",
       "29097  flash load twice workaround investigate report...   \n",
       "29098  etag vs header expire look around able figure ...   \n",
       "29099  determine longest similar portion several stri...   \n",
       "29100  validation binary search tree read exercise in...   \n",
       "\n",
       "                                               imp_words  \\\n",
       "0      convert decimal double c# want track bar chang...   \n",
       "1      width collapse percentage width child element ...   \n",
       "2      calculate someone age base datetime type give ...   \n",
       "3      calculate relative time c# give specific datet...   \n",
       "4      determine user timezone standards way web serv...   \n",
       "...                                                  ...   \n",
       "29096  extract decimal part float point number extrac...   \n",
       "29097  flash load twice workaround investigate report...   \n",
       "29098  vs header expire look around able figure expir...   \n",
       "29099  determine similar portion several string per t...   \n",
       "29100  validation binary search tree read exercise in...   \n",
       "\n",
       "                                                    Tags  \n",
       "0       c#  floating-point  type-conversion  double  ...  \n",
       "1                        html  css  internet-explorer-7   \n",
       "2                                    c#  .net  datetime   \n",
       "3       c#  datetime  time  datediff  relative-time-s...  \n",
       "4       html  browser  timezone  user-agent  timezone...  \n",
       "...                                                  ...  \n",
       "29096               c  floating-point  decimal  numbers   \n",
       "29097                                  flash  swfobject   \n",
       "29098               http  caching  etag  expires-header   \n",
       "29099               perl  algorithm  string  similarity   \n",
       "29100    algorithm  data-structures  binary-search-tree   \n",
       "\n",
       "[29101 rows x 3 columns]"
      ]
     },
     "execution_count": 1,
     "metadata": {},
     "output_type": "execute_result"
    }
   ],
   "source": [
    "import pandas as pd\n",
    "import numpy as np\n",
    "import matplotlib.pyplot as plt\n",
    "\n",
    "pd.set_option(\"display.max_columns\", None)\n",
    "\n",
    "datas = pd.read_csv(\"P5_06_transf_datas.csv\")\n",
    "\n",
    "datas"
   ]
  },
  {
   "cell_type": "code",
   "execution_count": 2,
   "metadata": {},
   "outputs": [
    {
     "data": {
      "text/html": [
       "<div>\n",
       "<style scoped>\n",
       "    .dataframe tbody tr th:only-of-type {\n",
       "        vertical-align: middle;\n",
       "    }\n",
       "\n",
       "    .dataframe tbody tr th {\n",
       "        vertical-align: top;\n",
       "    }\n",
       "\n",
       "    .dataframe thead th {\n",
       "        text-align: right;\n",
       "    }\n",
       "</style>\n",
       "<table border=\"1\" class=\"dataframe\">\n",
       "  <thead>\n",
       "    <tr style=\"text-align: right;\">\n",
       "      <th></th>\n",
       "      <th>stem_words</th>\n",
       "      <th>imp_words</th>\n",
       "      <th>Tags</th>\n",
       "    </tr>\n",
       "  </thead>\n",
       "  <tbody>\n",
       "    <tr>\n",
       "      <th>0</th>\n",
       "      <td>php push array may may exist want create array...</td>\n",
       "      <td>php push array may may exist want create array...</td>\n",
       "      <td>php  arrays  declaration  push</td>\n",
       "    </tr>\n",
       "    <tr>\n",
       "      <th>1</th>\n",
       "      <td>correct way escape character datatable filter ...</td>\n",
       "      <td>correct way escape character datatable filter ...</td>\n",
       "      <td>.net  ado.net</td>\n",
       "    </tr>\n",
       "    <tr>\n",
       "      <th>2</th>\n",
       "      <td>unpack array arguments php python provide oper...</td>\n",
       "      <td>unpack array arguments php python provide oper...</td>\n",
       "      <td>php  python  arguments  iterable-unpacking</td>\n",
       "    </tr>\n",
       "    <tr>\n",
       "      <th>3</th>\n",
       "      <td>difference ole database odbc data source read ...</td>\n",
       "      <td>difference ole database odbc data source read ...</td>\n",
       "      <td>odbc  oledb</td>\n",
       "    </tr>\n",
       "    <tr>\n",
       "      <th>4</th>\n",
       "      <td>get length jtextfield content user type jtextf...</td>\n",
       "      <td>get length content user type events seem time ...</td>\n",
       "      <td>java  swing  events  jtextfield</td>\n",
       "    </tr>\n",
       "    <tr>\n",
       "      <th>...</th>\n",
       "      <td>...</td>\n",
       "      <td>...</td>\n",
       "      <td>...</td>\n",
       "    </tr>\n",
       "    <tr>\n",
       "      <th>4995</th>\n",
       "      <td>iis error cannot connect configuration databas...</td>\n",
       "      <td>iis error cannot connect configuration databas...</td>\n",
       "      <td>sql-server  iis  windows-server-2003</td>\n",
       "    </tr>\n",
       "    <tr>\n",
       "      <th>4996</th>\n",
       "      <td>python pep strongly recommend space tabs inden...</td>\n",
       "      <td>python strongly recommend space tabs indentati...</td>\n",
       "      <td>python  indentation  pep8</td>\n",
       "    </tr>\n",
       "    <tr>\n",
       "      <th>4997</th>\n",
       "      <td>return total number file within directory use ...</td>\n",
       "      <td>return total number file within directory php ...</td>\n",
       "      <td>php  file  count  directory</td>\n",
       "    </tr>\n",
       "    <tr>\n",
       "      <th>4998</th>\n",
       "      <td>program interface write interface dns class ag...</td>\n",
       "      <td>program interface write interface dns class ag...</td>\n",
       "      <td>java  model  dns  interface</td>\n",
       "    </tr>\n",
       "    <tr>\n",
       "      <th>4999</th>\n",
       "      <td>java ee program skills many years experience j...</td>\n",
       "      <td>java ee program skills many years experience j...</td>\n",
       "      <td>java  jakarta-ee</td>\n",
       "    </tr>\n",
       "  </tbody>\n",
       "</table>\n",
       "<p>5000 rows × 3 columns</p>\n",
       "</div>"
      ],
      "text/plain": [
       "                                             stem_words  \\\n",
       "0     php push array may may exist want create array...   \n",
       "1     correct way escape character datatable filter ...   \n",
       "2     unpack array arguments php python provide oper...   \n",
       "3     difference ole database odbc data source read ...   \n",
       "4     get length jtextfield content user type jtextf...   \n",
       "...                                                 ...   \n",
       "4995  iis error cannot connect configuration databas...   \n",
       "4996  python pep strongly recommend space tabs inden...   \n",
       "4997  return total number file within directory use ...   \n",
       "4998  program interface write interface dns class ag...   \n",
       "4999  java ee program skills many years experience j...   \n",
       "\n",
       "                                              imp_words  \\\n",
       "0     php push array may may exist want create array...   \n",
       "1     correct way escape character datatable filter ...   \n",
       "2     unpack array arguments php python provide oper...   \n",
       "3     difference ole database odbc data source read ...   \n",
       "4     get length content user type events seem time ...   \n",
       "...                                                 ...   \n",
       "4995  iis error cannot connect configuration databas...   \n",
       "4996  python strongly recommend space tabs indentati...   \n",
       "4997  return total number file within directory php ...   \n",
       "4998  program interface write interface dns class ag...   \n",
       "4999  java ee program skills many years experience j...   \n",
       "\n",
       "                                              Tags  \n",
       "0                  php  arrays  declaration  push   \n",
       "1                                   .net  ado.net   \n",
       "2      php  python  arguments  iterable-unpacking   \n",
       "3                                     odbc  oledb   \n",
       "4                 java  swing  events  jtextfield   \n",
       "...                                            ...  \n",
       "4995         sql-server  iis  windows-server-2003   \n",
       "4996                    python  indentation  pep8   \n",
       "4997                  php  file  count  directory   \n",
       "4998                  java  model  dns  interface   \n",
       "4999                             java  jakarta-ee   \n",
       "\n",
       "[5000 rows x 3 columns]"
      ]
     },
     "execution_count": 2,
     "metadata": {},
     "output_type": "execute_result"
    }
   ],
   "source": [
    "samples = np.random.choice(len(datas), 5000, replace= False)\n",
    "df_samples = datas.iloc[samples, :].reset_index(drop= True)\n",
    "\n",
    "df_samples"
   ]
  },
  {
   "cell_type": "markdown",
   "metadata": {},
   "source": [
    "Je sépare le jeu de données en un jeu d'entraînement et un de test."
   ]
  },
  {
   "cell_type": "code",
   "execution_count": 3,
   "metadata": {},
   "outputs": [],
   "source": [
    "from sklearn.model_selection import train_test_split, StratifiedKFold, KFold\n",
    "\n",
    "X_docs = df_samples[\"imp_words\"]\n",
    "y_docs = df_samples[\"Tags\"]\n",
    "\n",
    "X_train, X_test, Y_train, Y_test = train_test_split(X_docs, y_docs, \n",
    "    train_size= 0.7, random_state= 42)\n",
    "\n"
   ]
  },
  {
   "cell_type": "markdown",
   "metadata": {},
   "source": [
    "Je  transforme X et y."
   ]
  },
  {
   "cell_type": "code",
   "execution_count": 4,
   "metadata": {},
   "outputs": [],
   "source": [
    "from sklearn.feature_extraction.text import TfidfVectorizer, CountVectorizer\n",
    "from sklearn.naive_bayes import MultinomialNB\n",
    "from sklearn.ensemble import RandomForestClassifier\n",
    "\n",
    "tfidf_vect = TfidfVectorizer(token_pattern= r'[\\S]+')\n",
    "\n",
    "x_train = tfidf_vect.fit_transform(X_train).toarray()\n",
    "x_test = tfidf_vect.transform(X_test).toarray()\n"
   ]
  },
  {
   "cell_type": "code",
   "execution_count": 5,
   "metadata": {},
   "outputs": [
    {
     "data": {
      "text/plain": [
       "(3500, 3959)"
      ]
     },
     "execution_count": 5,
     "metadata": {},
     "output_type": "execute_result"
    }
   ],
   "source": [
    "x_train.shape"
   ]
  },
  {
   "cell_type": "code",
   "execution_count": 6,
   "metadata": {},
   "outputs": [
    {
     "data": {
      "text/plain": [
       "0.8311071312563882"
      ]
     },
     "execution_count": 6,
     "metadata": {},
     "output_type": "execute_result"
    }
   ],
   "source": [
    "from sklearn.decomposition import PCA\n",
    "\n",
    "component = 1000\n",
    "\n",
    "pca = PCA(n_components= component)\n",
    "pca.fit(x_train)\n",
    "\n",
    "pca.explained_variance_ratio_.cumsum()[-1]"
   ]
  },
  {
   "cell_type": "code",
   "execution_count": 7,
   "metadata": {},
   "outputs": [],
   "source": [
    "x_train_pca = pca.transform(x_train)\n",
    "x_test_pca = pca.transform(x_test)"
   ]
  },
  {
   "cell_type": "code",
   "execution_count": 8,
   "metadata": {},
   "outputs": [],
   "source": [
    "count_vect = CountVectorizer(token_pattern= r'[\\S]+')\n",
    "y_train = count_vect.fit_transform(Y_train).toarray()\n",
    "\n",
    "y_test = count_vect.transform(Y_test).toarray()\n"
   ]
  },
  {
   "cell_type": "code",
   "execution_count": 9,
   "metadata": {},
   "outputs": [],
   "source": [
    "# from sklearn.preprocessing import MinMaxScaler\n",
    "\n",
    "# mms = MinMaxScaler()\n",
    "# mms.fit(x_train_pca)\n",
    "\n",
    "# x_train_mms = mms.transform(x_train_pca)\n",
    "# x_test_mms = mms.transform(x_test_pca)"
   ]
  },
  {
   "cell_type": "code",
   "execution_count": 11,
   "metadata": {},
   "outputs": [],
   "source": [
    "from sklearn.multioutput import MultiOutputClassifier, MultiOutputRegressor\n",
    "from sklearn.multiclass import OneVsRestClassifier\n",
    "from sklearn.linear_model import LogisticRegression, SGDClassifier\n",
    "\n",
    "# clf = OneVsRestClassifier(LogisticRegression( class_weight= \"balanced\", \n",
    "#     random_state= 42)).fit(x_train_pca, y_train)\n",
    "\n",
    "# clf = OneVsRestClassifier(SGDClassifier(loss= \"modified_huber\", # class_weight= \"balanced\", \n",
    "#     random_state= 42))\n",
    "# clf.fit(x_train_pca, y_train)\n",
    "\n",
    "clf = OneVsRestClassifier(RandomForestClassifier()).fit(x_train_pca, y_train)\n",
    "\n",
    "# clf = OneVsRestClassifier(MultinomialNB()).fit(x_train_mms, y_train)"
   ]
  },
  {
   "cell_type": "code",
   "execution_count": 13,
   "metadata": {},
   "outputs": [
    {
     "data": {
      "text/plain": [
       "0.013333333333333334"
      ]
     },
     "execution_count": 13,
     "metadata": {},
     "output_type": "execute_result"
    }
   ],
   "source": [
    "clf.score(x_test_pca, y_test)"
   ]
  },
  {
   "cell_type": "code",
   "execution_count": null,
   "metadata": {},
   "outputs": [],
   "source": [
    "# dec_funct = clf.decision_function(x_test_pca)"
   ]
  },
  {
   "cell_type": "code",
   "execution_count": null,
   "metadata": {},
   "outputs": [],
   "source": [
    "# np.argmax(dec_funct[1])"
   ]
  },
  {
   "cell_type": "code",
   "execution_count": null,
   "metadata": {},
   "outputs": [],
   "source": [
    "# max(dec_funct[1])"
   ]
  },
  {
   "cell_type": "code",
   "execution_count": 15,
   "metadata": {},
   "outputs": [],
   "source": [
    "pred = clf.predict(x_test_pca)\n",
    "pred_proba = clf.predict_proba(x_test_pca)"
   ]
  },
  {
   "cell_type": "code",
   "execution_count": null,
   "metadata": {},
   "outputs": [],
   "source": [
    "# pred.shape"
   ]
  },
  {
   "cell_type": "code",
   "execution_count": null,
   "metadata": {},
   "outputs": [
    {
     "ename": "TypeError",
     "evalue": "cannot perform reduce with flexible type",
     "output_type": "error",
     "traceback": [
      "\u001b[1;31m---------------------------------------------------------------------------\u001b[0m",
      "\u001b[1;31mTypeError\u001b[0m                                 Traceback (most recent call last)",
      "\u001b[1;32m~\\AppData\\Local\\Temp/ipykernel_3216/60839349.py\u001b[0m in \u001b[0;36m<module>\u001b[1;34m\u001b[0m\n\u001b[0;32m      1\u001b[0m \u001b[1;31m# # pred.shape\u001b[0m\u001b[1;33m\u001b[0m\u001b[1;33m\u001b[0m\u001b[0m\n\u001b[1;32m----> 2\u001b[1;33m \u001b[0mlen\u001b[0m\u001b[1;33m(\u001b[0m\u001b[0mnp\u001b[0m\u001b[1;33m.\u001b[0m\u001b[0mwhere\u001b[0m\u001b[1;33m(\u001b[0m\u001b[0mnp\u001b[0m\u001b[1;33m.\u001b[0m\u001b[0mmax\u001b[0m\u001b[1;33m(\u001b[0m\u001b[0mpred\u001b[0m\u001b[1;33m,\u001b[0m \u001b[0maxis\u001b[0m\u001b[1;33m=\u001b[0m \u001b[1;36m1\u001b[0m\u001b[1;33m)\u001b[0m \u001b[1;33m==\u001b[0m \u001b[1;36m1\u001b[0m\u001b[1;33m)\u001b[0m\u001b[1;33m[\u001b[0m\u001b[1;36m0\u001b[0m\u001b[1;33m]\u001b[0m\u001b[1;33m)\u001b[0m\u001b[1;33m\u001b[0m\u001b[1;33m\u001b[0m\u001b[0m\n\u001b[0m",
      "\u001b[1;32m<__array_function__ internals>\u001b[0m in \u001b[0;36mamax\u001b[1;34m(*args, **kwargs)\u001b[0m\n",
      "\u001b[1;32m~\\AppData\\Local\\Packages\\PythonSoftwareFoundation.Python.3.9_qbz5n2kfra8p0\\LocalCache\\local-packages\\Python39\\site-packages\\numpy\\core\\fromnumeric.py\u001b[0m in \u001b[0;36mamax\u001b[1;34m(a, axis, out, keepdims, initial, where)\u001b[0m\n\u001b[0;32m   2703\u001b[0m     \u001b[1;36m5\u001b[0m\u001b[1;33m\u001b[0m\u001b[1;33m\u001b[0m\u001b[0m\n\u001b[0;32m   2704\u001b[0m     \"\"\"\n\u001b[1;32m-> 2705\u001b[1;33m     return _wrapreduction(a, np.maximum, 'max', axis, None, out,\n\u001b[0m\u001b[0;32m   2706\u001b[0m                           keepdims=keepdims, initial=initial, where=where)\n\u001b[0;32m   2707\u001b[0m \u001b[1;33m\u001b[0m\u001b[0m\n",
      "\u001b[1;32m~\\AppData\\Local\\Packages\\PythonSoftwareFoundation.Python.3.9_qbz5n2kfra8p0\\LocalCache\\local-packages\\Python39\\site-packages\\numpy\\core\\fromnumeric.py\u001b[0m in \u001b[0;36m_wrapreduction\u001b[1;34m(obj, ufunc, method, axis, dtype, out, **kwargs)\u001b[0m\n\u001b[0;32m     85\u001b[0m                 \u001b[1;32mreturn\u001b[0m \u001b[0mreduction\u001b[0m\u001b[1;33m(\u001b[0m\u001b[0maxis\u001b[0m\u001b[1;33m=\u001b[0m\u001b[0maxis\u001b[0m\u001b[1;33m,\u001b[0m \u001b[0mout\u001b[0m\u001b[1;33m=\u001b[0m\u001b[0mout\u001b[0m\u001b[1;33m,\u001b[0m \u001b[1;33m**\u001b[0m\u001b[0mpasskwargs\u001b[0m\u001b[1;33m)\u001b[0m\u001b[1;33m\u001b[0m\u001b[1;33m\u001b[0m\u001b[0m\n\u001b[0;32m     86\u001b[0m \u001b[1;33m\u001b[0m\u001b[0m\n\u001b[1;32m---> 87\u001b[1;33m     \u001b[1;32mreturn\u001b[0m \u001b[0mufunc\u001b[0m\u001b[1;33m.\u001b[0m\u001b[0mreduce\u001b[0m\u001b[1;33m(\u001b[0m\u001b[0mobj\u001b[0m\u001b[1;33m,\u001b[0m \u001b[0maxis\u001b[0m\u001b[1;33m,\u001b[0m \u001b[0mdtype\u001b[0m\u001b[1;33m,\u001b[0m \u001b[0mout\u001b[0m\u001b[1;33m,\u001b[0m \u001b[1;33m**\u001b[0m\u001b[0mpasskwargs\u001b[0m\u001b[1;33m)\u001b[0m\u001b[1;33m\u001b[0m\u001b[1;33m\u001b[0m\u001b[0m\n\u001b[0m\u001b[0;32m     88\u001b[0m \u001b[1;33m\u001b[0m\u001b[0m\n\u001b[0;32m     89\u001b[0m \u001b[1;33m\u001b[0m\u001b[0m\n",
      "\u001b[1;31mTypeError\u001b[0m: cannot perform reduce with flexible type"
     ]
    }
   ],
   "source": [
    "# # pred.shape\n",
    "len(np.where(np.max(pred, axis= 1) == 1)[0])"
   ]
  },
  {
   "cell_type": "code",
   "execution_count": null,
   "metadata": {},
   "outputs": [],
   "source": [
    "truc = np.sort(pred_proba, axis= 1)\n",
    "print(truc[-1][-10:])\n",
    "\n",
    "diff_tt = truc[0, -1] - truc[:, -2]\n",
    "len(diff_tt)"
   ]
  },
  {
   "cell_type": "code",
   "execution_count": null,
   "metadata": {},
   "outputs": [],
   "source": [
    "for t in reversed(truc[0]):\n",
    "    print(t, \" - \", np.log10(t+1))"
   ]
  },
  {
   "cell_type": "code",
   "execution_count": null,
   "metadata": {},
   "outputs": [],
   "source": [
    "tt = diff_tt.reshape(-1, 1)\n",
    "tt.shape"
   ]
  },
  {
   "cell_type": "code",
   "execution_count": null,
   "metadata": {},
   "outputs": [],
   "source": [
    "np.where(pred_proba > diff_tt.reshape(-1, 1), 1, 0)\n",
    "\n",
    "# maxi = max(pred[0])\n",
    "\n",
    "# print(maxi)\n",
    "# np.argmax(pred[0])"
   ]
  },
  {
   "cell_type": "code",
   "execution_count": null,
   "metadata": {},
   "outputs": [],
   "source": [
    "# machin = sorted(pred[0], reverse= True)\n",
    "\n",
    "# print(machin[0] - machin[1])\n",
    "# print(maxi)\n",
    "# puissance = np.log10(maxi).astype(int).astype(float) -1\n",
    "# print(puissance)\n",
    "# print(1 * 10**(puissance))\n",
    "# maxi - (2 * 10**(puissance))"
   ]
  },
  {
   "cell_type": "code",
   "execution_count": null,
   "metadata": {},
   "outputs": [],
   "source": [
    "# truc = np.where(pred[0] >= 0.5, 1, 0)\n",
    "# truc = truc.reshape(1, -1)\n",
    "# truc.shape"
   ]
  },
  {
   "cell_type": "code",
   "execution_count": 16,
   "metadata": {},
   "outputs": [],
   "source": [
    "results_preds = np.zeros(pred.shape)\n",
    "\n",
    "# for num, ind in enumerate(pred):\n",
    "pred_sorted = np.sort(pred_proba, axis= 1)\n",
    "diff = pred_sorted[:, -1] - np.log10(pred_sorted[:, -1] +1)\n",
    "    # transformed_vals = np.where(ind > (maxi - limit), 1, 0).reshape(1, -1)\n",
    "# results_preds = np.where(maxi - limit > 0, np.where(pred_proba > (maxi - limit), 1, 0), 0) #np.where(pred_proba == maxi, 1, 0))\n",
    "results_preds = np.where(pred_proba > diff.reshape(-1, 1), 1, 0)\n",
    "    # print(transformed_vals.shape)\n",
    "    # results_preds[num] = transformed_vals\n",
    "    # if num >2:\n",
    "    #     break\n",
    "\n",
    "# results_preds = np.where(pred_proba > 0, 1, 0)"
   ]
  },
  {
   "cell_type": "code",
   "execution_count": 17,
   "metadata": {},
   "outputs": [
    {
     "data": {
      "text/plain": [
       "(1500, 2372)"
      ]
     },
     "execution_count": 17,
     "metadata": {},
     "output_type": "execute_result"
    }
   ],
   "source": [
    "results_preds.shape\n",
    "# np.max(results_preds, axis= 1)"
   ]
  },
  {
   "cell_type": "code",
   "execution_count": 18,
   "metadata": {},
   "outputs": [
    {
     "data": {
      "text/plain": [
       "0.9984367622259697"
      ]
     },
     "execution_count": 18,
     "metadata": {},
     "output_type": "execute_result"
    }
   ],
   "source": [
    "from sklearn.metrics import accuracy_score, balanced_accuracy_score\n",
    "from sklearn.metrics import roc_auc_score, precision_recall_curve\n",
    "\n",
    "np.mean(y_test == results_preds)\n"
   ]
  },
  {
   "cell_type": "code",
   "execution_count": 20,
   "metadata": {},
   "outputs": [
    {
     "data": {
      "text/plain": [
       "0.9989078133783024"
      ]
     },
     "execution_count": 20,
     "metadata": {},
     "output_type": "execute_result"
    }
   ],
   "source": [
    "np.mean(y_test == pred)"
   ]
  },
  {
   "cell_type": "markdown",
   "metadata": {},
   "source": [
    "0.99191208791\n",
    "0.99869461"
   ]
  },
  {
   "cell_type": "code",
   "execution_count": 21,
   "metadata": {},
   "outputs": [],
   "source": [
    "t_pred = pd.DataFrame(pred_proba, columns= count_vect.get_feature_names_out())\n"
   ]
  },
  {
   "cell_type": "code",
   "execution_count": 22,
   "metadata": {},
   "outputs": [],
   "source": [
    "pred_proba_df = pd.DataFrame(results_preds, columns= count_vect.get_feature_names_out())"
   ]
  },
  {
   "cell_type": "code",
   "execution_count": 23,
   "metadata": {},
   "outputs": [],
   "source": [
    "from collections import defaultdict\n",
    "\n",
    "filtered_pred = defaultdict(int)\n",
    "\n",
    "ind= 0\n",
    "\n",
    "for col in pred_proba_df.columns:\n",
    "    if pred_proba_df.loc[ind, col] > diff[ind]:\n",
    "        filtered_pred[col] = pred_proba_df.loc[ind, col]\n"
   ]
  },
  {
   "cell_type": "code",
   "execution_count": null,
   "metadata": {},
   "outputs": [],
   "source": [
    "filtered_pred = defaultdict(int)\n",
    "\n",
    "ind= 451\n",
    "\n",
    "for col in t_pred.columns:\n",
    "    if t_pred.loc[ind, col] > diff_tt:\n",
    "        filtered_pred[col] = t_pred.loc[ind, col]"
   ]
  },
  {
   "cell_type": "code",
   "execution_count": 24,
   "metadata": {},
   "outputs": [],
   "source": [
    "x_test_df = pd.DataFrame(x_test, columns= tfidf_vect.get_feature_names_out())\n",
    "y_test_df = pd.DataFrame(y_test, columns= count_vect.get_feature_names_out())"
   ]
  },
  {
   "cell_type": "code",
   "execution_count": 25,
   "metadata": {},
   "outputs": [
    {
     "data": {
      "text/plain": [
       "defaultdict(int, {'python': 1})"
      ]
     },
     "execution_count": 25,
     "metadata": {},
     "output_type": "execute_result"
    }
   ],
   "source": [
    "filtered_pred"
   ]
  },
  {
   "cell_type": "code",
   "execution_count": 26,
   "metadata": {},
   "outputs": [
    {
     "data": {
      "text/html": [
       "<div>\n",
       "<style scoped>\n",
       "    .dataframe tbody tr th:only-of-type {\n",
       "        vertical-align: middle;\n",
       "    }\n",
       "\n",
       "    .dataframe tbody tr th {\n",
       "        vertical-align: top;\n",
       "    }\n",
       "\n",
       "    .dataframe thead th {\n",
       "        text-align: right;\n",
       "    }\n",
       "</style>\n",
       "<table border=\"1\" class=\"dataframe\">\n",
       "  <thead>\n",
       "    <tr style=\"text-align: right;\">\n",
       "      <th></th>\n",
       "      <th>index</th>\n",
       "      <th>0</th>\n",
       "    </tr>\n",
       "  </thead>\n",
       "  <tbody>\n",
       "    <tr>\n",
       "      <th>496</th>\n",
       "      <td>datetime</td>\n",
       "      <td>1</td>\n",
       "    </tr>\n",
       "    <tr>\n",
       "      <th>1588</th>\n",
       "      <td>python</td>\n",
       "      <td>1</td>\n",
       "    </tr>\n",
       "    <tr>\n",
       "      <th>1710</th>\n",
       "      <td>rfc3339</td>\n",
       "      <td>1</td>\n",
       "    </tr>\n",
       "  </tbody>\n",
       "</table>\n",
       "</div>"
      ],
      "text/plain": [
       "         index  0\n",
       "496   datetime  1\n",
       "1588    python  1\n",
       "1710   rfc3339  1"
      ]
     },
     "execution_count": 26,
     "metadata": {},
     "output_type": "execute_result"
    }
   ],
   "source": [
    "test = y_test_df.iloc[ind, :].reset_index().rename({ind: 0}, axis= 1)\n",
    "test[test[0] > 0]\n",
    "# test"
   ]
  },
  {
   "cell_type": "code",
   "execution_count": 27,
   "metadata": {},
   "outputs": [
    {
     "data": {
      "text/plain": [
       "'parse iso date need parse rfc string like 2008-09 python datetime type find python standards library convenient best way'"
      ]
     },
     "execution_count": 27,
     "metadata": {},
     "output_type": "execute_result"
    }
   ],
   "source": [
    "X_test.iloc[ind]"
   ]
  }
 ],
 "metadata": {
  "interpreter": {
   "hash": "c41a7b1d73be963b12274ea26e97c36183a8e874bdf8628a8c7c44cf12df08ab"
  },
  "kernelspec": {
   "display_name": "Python 3.9.9 64-bit (windows store)",
   "language": "python",
   "name": "python3"
  },
  "language_info": {
   "codemirror_mode": {
    "name": "ipython",
    "version": 3
   },
   "file_extension": ".py",
   "mimetype": "text/x-python",
   "name": "python",
   "nbconvert_exporter": "python",
   "pygments_lexer": "ipython3",
   "version": "3.9.9"
  },
  "orig_nbformat": 4
 },
 "nbformat": 4,
 "nbformat_minor": 2
}
