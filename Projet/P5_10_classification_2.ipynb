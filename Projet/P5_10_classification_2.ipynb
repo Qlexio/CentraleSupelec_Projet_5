{
 "cells": [
  {
   "cell_type": "markdown",
   "metadata": {},
   "source": [
    "# Prédiction des tags"
   ]
  },
  {
   "cell_type": "code",
   "execution_count": 1,
   "metadata": {},
   "outputs": [
    {
     "data": {
      "text/html": [
       "<div>\n",
       "<style scoped>\n",
       "    .dataframe tbody tr th:only-of-type {\n",
       "        vertical-align: middle;\n",
       "    }\n",
       "\n",
       "    .dataframe tbody tr th {\n",
       "        vertical-align: top;\n",
       "    }\n",
       "\n",
       "    .dataframe thead th {\n",
       "        text-align: right;\n",
       "    }\n",
       "</style>\n",
       "<table border=\"1\" class=\"dataframe\">\n",
       "  <thead>\n",
       "    <tr style=\"text-align: right;\">\n",
       "      <th></th>\n",
       "      <th>stem_words</th>\n",
       "      <th>imp_words</th>\n",
       "      <th>Tags</th>\n",
       "    </tr>\n",
       "  </thead>\n",
       "  <tbody>\n",
       "    <tr>\n",
       "      <th>0</th>\n",
       "      <td>convert decimal double c# want use track bar c...</td>\n",
       "      <td>convert decimal double c# want track bar chang...</td>\n",
       "      <td>c#  floating-point  type-conversion  double  ...</td>\n",
       "    </tr>\n",
       "    <tr>\n",
       "      <th>1</th>\n",
       "      <td>width collapse percentage width child element ...</td>\n",
       "      <td>width collapse percentage width child element ...</td>\n",
       "      <td>html  css  internet-explorer-7</td>\n",
       "    </tr>\n",
       "    <tr>\n",
       "      <th>2</th>\n",
       "      <td>calculate someone age base datetime type birth...</td>\n",
       "      <td>calculate someone age base datetime type give ...</td>\n",
       "      <td>c#  .net  datetime</td>\n",
       "    </tr>\n",
       "    <tr>\n",
       "      <th>3</th>\n",
       "      <td>calculate relative time c# give specific datet...</td>\n",
       "      <td>calculate relative time c# give specific datet...</td>\n",
       "      <td>c#  datetime  time  datediff  relative-time-s...</td>\n",
       "    </tr>\n",
       "    <tr>\n",
       "      <th>4</th>\n",
       "      <td>determine user timezone standard way web serve...</td>\n",
       "      <td>determine user timezone standard way web serve...</td>\n",
       "      <td>html  browser  timezone  user-agent  timezone...</td>\n",
       "    </tr>\n",
       "    <tr>\n",
       "      <th>...</th>\n",
       "      <td>...</td>\n",
       "      <td>...</td>\n",
       "      <td>...</td>\n",
       "    </tr>\n",
       "    <tr>\n",
       "      <th>29096</th>\n",
       "      <td>extract decimal part float point number extrac...</td>\n",
       "      <td>extract decimal part float point number extrac...</td>\n",
       "      <td>c  floating-point  decimal  numbers</td>\n",
       "    </tr>\n",
       "    <tr>\n",
       "      <th>29097</th>\n",
       "      <td>flash load twice workaround investigate report...</td>\n",
       "      <td>flash load twice workaround investigate report...</td>\n",
       "      <td>flash  swfobject</td>\n",
       "    </tr>\n",
       "    <tr>\n",
       "      <th>29098</th>\n",
       "      <td>etag vs header expire look around able figure ...</td>\n",
       "      <td>vs header expire look around able figure expir...</td>\n",
       "      <td>http  caching  etag  expires-header</td>\n",
       "    </tr>\n",
       "    <tr>\n",
       "      <th>29099</th>\n",
       "      <td>determine longest similar portion several stri...</td>\n",
       "      <td>determine similar portion several string per t...</td>\n",
       "      <td>perl  algorithm  string  similarity</td>\n",
       "    </tr>\n",
       "    <tr>\n",
       "      <th>29100</th>\n",
       "      <td>validate binary search tree read exercise inte...</td>\n",
       "      <td>validate binary search tree read exercise inte...</td>\n",
       "      <td>algorithm  data-structures  binary-search-tree</td>\n",
       "    </tr>\n",
       "  </tbody>\n",
       "</table>\n",
       "<p>29101 rows × 3 columns</p>\n",
       "</div>"
      ],
      "text/plain": [
       "                                              stem_words  \\\n",
       "0      convert decimal double c# want use track bar c...   \n",
       "1      width collapse percentage width child element ...   \n",
       "2      calculate someone age base datetime type birth...   \n",
       "3      calculate relative time c# give specific datet...   \n",
       "4      determine user timezone standard way web serve...   \n",
       "...                                                  ...   \n",
       "29096  extract decimal part float point number extrac...   \n",
       "29097  flash load twice workaround investigate report...   \n",
       "29098  etag vs header expire look around able figure ...   \n",
       "29099  determine longest similar portion several stri...   \n",
       "29100  validate binary search tree read exercise inte...   \n",
       "\n",
       "                                               imp_words  \\\n",
       "0      convert decimal double c# want track bar chang...   \n",
       "1      width collapse percentage width child element ...   \n",
       "2      calculate someone age base datetime type give ...   \n",
       "3      calculate relative time c# give specific datet...   \n",
       "4      determine user timezone standard way web serve...   \n",
       "...                                                  ...   \n",
       "29096  extract decimal part float point number extrac...   \n",
       "29097  flash load twice workaround investigate report...   \n",
       "29098  vs header expire look around able figure expir...   \n",
       "29099  determine similar portion several string per t...   \n",
       "29100  validate binary search tree read exercise inte...   \n",
       "\n",
       "                                                    Tags  \n",
       "0       c#  floating-point  type-conversion  double  ...  \n",
       "1                        html  css  internet-explorer-7   \n",
       "2                                    c#  .net  datetime   \n",
       "3       c#  datetime  time  datediff  relative-time-s...  \n",
       "4       html  browser  timezone  user-agent  timezone...  \n",
       "...                                                  ...  \n",
       "29096               c  floating-point  decimal  numbers   \n",
       "29097                                  flash  swfobject   \n",
       "29098               http  caching  etag  expires-header   \n",
       "29099               perl  algorithm  string  similarity   \n",
       "29100    algorithm  data-structures  binary-search-tree   \n",
       "\n",
       "[29101 rows x 3 columns]"
      ]
     },
     "execution_count": 1,
     "metadata": {},
     "output_type": "execute_result"
    }
   ],
   "source": [
    "import pandas as pd\n",
    "import numpy as np\n",
    "import matplotlib.pyplot as plt\n",
    "\n",
    "pd.set_option(\"display.max_columns\", None)\n",
    "\n",
    "datas = pd.read_csv(\"P5_06_transf_datas.csv\")\n",
    "\n",
    "datas"
   ]
  },
  {
   "cell_type": "code",
   "execution_count": 2,
   "metadata": {},
   "outputs": [
    {
     "data": {
      "text/html": [
       "<div>\n",
       "<style scoped>\n",
       "    .dataframe tbody tr th:only-of-type {\n",
       "        vertical-align: middle;\n",
       "    }\n",
       "\n",
       "    .dataframe tbody tr th {\n",
       "        vertical-align: top;\n",
       "    }\n",
       "\n",
       "    .dataframe thead th {\n",
       "        text-align: right;\n",
       "    }\n",
       "</style>\n",
       "<table border=\"1\" class=\"dataframe\">\n",
       "  <thead>\n",
       "    <tr style=\"text-align: right;\">\n",
       "      <th></th>\n",
       "      <th>stem_words</th>\n",
       "      <th>imp_words</th>\n",
       "      <th>Tags</th>\n",
       "    </tr>\n",
       "  </thead>\n",
       "  <tbody>\n",
       "    <tr>\n",
       "      <th>0</th>\n",
       "      <td>python leopard fink mac port python.org idiot ...</td>\n",
       "      <td>python leopard mac port break python fresh sta...</td>\n",
       "      <td>python  python-2.6  python-install</td>\n",
       "    </tr>\n",
       "    <tr>\n",
       "      <th>1</th>\n",
       "      <td>use gcc generate assembly code intel syntax gc...</td>\n",
       "      <td>gcc generate assembly code intel syntax gcc op...</td>\n",
       "      <td>gcc  x86  gnu  intel  assembly</td>\n",
       "    </tr>\n",
       "    <tr>\n",
       "      <th>2</th>\n",
       "      <td>use rspec shoulda rail set rail app finish mak...</td>\n",
       "      <td>rspec rail set rail app finish make unit test ...</td>\n",
       "      <td>ruby-on-rails  ruby  unit-testing  testing  s...</td>\n",
       "    </tr>\n",
       "    <tr>\n",
       "      <th>3</th>\n",
       "      <td>visual studio add reference add dll reference ...</td>\n",
       "      <td>visual studio add reference add dll reference ...</td>\n",
       "      <td>visual-studio-2008  version-control  intellis...</td>\n",
       "    </tr>\n",
       "    <tr>\n",
       "      <th>4</th>\n",
       "      <td>c# switch string.isnullorempty possible switch...</td>\n",
       "      <td>c# switch string.isnullorempty possible switch...</td>\n",
       "      <td>c#  string  switch-statement  semantics</td>\n",
       "    </tr>\n",
       "    <tr>\n",
       "      <th>...</th>\n",
       "      <td>...</td>\n",
       "      <td>...</td>\n",
       "      <td>...</td>\n",
       "    </tr>\n",
       "    <tr>\n",
       "      <th>4995</th>\n",
       "      <td>difference script application refer distinctio...</td>\n",
       "      <td>difference script application refer answer wri...</td>\n",
       "      <td>terminology</td>\n",
       "    </tr>\n",
       "    <tr>\n",
       "      <th>4996</th>\n",
       "      <td>downloadable browsable version .net framework ...</td>\n",
       "      <td>version .net framework source code source code...</td>\n",
       "      <td>.net</td>\n",
       "    </tr>\n",
       "    <tr>\n",
       "      <th>4997</th>\n",
       "      <td>advantage disadvantage gpgpu general purpose g...</td>\n",
       "      <td>advantage disadvantage general purpose develop...</td>\n",
       "      <td>performance  optimization  hpc</td>\n",
       "    </tr>\n",
       "    <tr>\n",
       "      <th>4998</th>\n",
       "      <td>erase elements boost ptr vector try get rid st...</td>\n",
       "      <td>erase elements boost ptr vector try get rid st...</td>\n",
       "      <td>c++  boost  ptr-vector</td>\n",
       "    </tr>\n",
       "    <tr>\n",
       "      <th>4999</th>\n",
       "      <td>ever use protect member variables ever use pro...</td>\n",
       "      <td>ever protect member variables ever protect mem...</td>\n",
       "      <td>oop  protected</td>\n",
       "    </tr>\n",
       "  </tbody>\n",
       "</table>\n",
       "<p>5000 rows × 3 columns</p>\n",
       "</div>"
      ],
      "text/plain": [
       "                                             stem_words  \\\n",
       "0     python leopard fink mac port python.org idiot ...   \n",
       "1     use gcc generate assembly code intel syntax gc...   \n",
       "2     use rspec shoulda rail set rail app finish mak...   \n",
       "3     visual studio add reference add dll reference ...   \n",
       "4     c# switch string.isnullorempty possible switch...   \n",
       "...                                                 ...   \n",
       "4995  difference script application refer distinctio...   \n",
       "4996  downloadable browsable version .net framework ...   \n",
       "4997  advantage disadvantage gpgpu general purpose g...   \n",
       "4998  erase elements boost ptr vector try get rid st...   \n",
       "4999  ever use protect member variables ever use pro...   \n",
       "\n",
       "                                              imp_words  \\\n",
       "0     python leopard mac port break python fresh sta...   \n",
       "1     gcc generate assembly code intel syntax gcc op...   \n",
       "2     rspec rail set rail app finish make unit test ...   \n",
       "3     visual studio add reference add dll reference ...   \n",
       "4     c# switch string.isnullorempty possible switch...   \n",
       "...                                                 ...   \n",
       "4995  difference script application refer answer wri...   \n",
       "4996  version .net framework source code source code...   \n",
       "4997  advantage disadvantage general purpose develop...   \n",
       "4998  erase elements boost ptr vector try get rid st...   \n",
       "4999  ever protect member variables ever protect mem...   \n",
       "\n",
       "                                                   Tags  \n",
       "0                   python  python-2.6  python-install   \n",
       "1                       gcc  x86  gnu  intel  assembly   \n",
       "2      ruby-on-rails  ruby  unit-testing  testing  s...  \n",
       "3      visual-studio-2008  version-control  intellis...  \n",
       "4              c#  string  switch-statement  semantics   \n",
       "...                                                 ...  \n",
       "4995                                       terminology   \n",
       "4996                                              .net   \n",
       "4997                    performance  optimization  hpc   \n",
       "4998                            c++  boost  ptr-vector   \n",
       "4999                                    oop  protected   \n",
       "\n",
       "[5000 rows x 3 columns]"
      ]
     },
     "execution_count": 2,
     "metadata": {},
     "output_type": "execute_result"
    }
   ],
   "source": [
    "samples = np.random.choice(len(datas), 5000, replace= False)\n",
    "df_samples = datas.iloc[samples, :].reset_index(drop= True)\n",
    "\n",
    "df_samples"
   ]
  },
  {
   "cell_type": "markdown",
   "metadata": {},
   "source": [
    "Je sépare le jeu de données en un jeu d'entraînement et un de test."
   ]
  },
  {
   "cell_type": "code",
   "execution_count": 3,
   "metadata": {},
   "outputs": [],
   "source": [
    "from sklearn.model_selection import train_test_split, StratifiedKFold\n",
    "\n",
    "X_docs = df_samples[\"imp_words\"]\n",
    "y_docs = df_samples[\"Tags\"]\n",
    "\n",
    "# X_train, X_test, Y_train, Y_test = train_test_split(X_docs, y_docs, \n",
    "    # train_size= 0.7, random_state= 42)\n",
    "\n",
    "X_train = X_docs\n",
    "Y_train = y_docs"
   ]
  },
  {
   "cell_type": "markdown",
   "metadata": {},
   "source": [
    "Je  transforme X et y."
   ]
  },
  {
   "cell_type": "code",
   "execution_count": 4,
   "metadata": {},
   "outputs": [],
   "source": [
    "from sklearn.feature_extraction.text import TfidfVectorizer, CountVectorizer\n",
    "\n",
    "tfidf_vect = TfidfVectorizer(token_pattern= r'[\\S]+')\n",
    "\n",
    "x_train = tfidf_vect.fit_transform(X_train).toarray()\n",
    "# x_test = tfidf_vect.transform(X_test).toarray()\n"
   ]
  },
  {
   "cell_type": "code",
   "execution_count": 5,
   "metadata": {},
   "outputs": [
    {
     "data": {
      "text/plain": [
       "0.7772525822790189"
      ]
     },
     "execution_count": 5,
     "metadata": {},
     "output_type": "execute_result"
    }
   ],
   "source": [
    "from sklearn.decomposition import PCA\n",
    "\n",
    "component = 1000\n",
    "\n",
    "pca = PCA(n_components= component)\n",
    "pca.fit(x_train)\n",
    "\n",
    "pca.explained_variance_ratio_.cumsum()[-1]"
   ]
  },
  {
   "cell_type": "code",
   "execution_count": 6,
   "metadata": {},
   "outputs": [],
   "source": [
    "x_train_pca = pca.transform(x_train)\n",
    "# x_test_pca = pca.transform(x_test)"
   ]
  },
  {
   "cell_type": "code",
   "execution_count": 7,
   "metadata": {},
   "outputs": [],
   "source": [
    "count_vect = CountVectorizer(token_pattern= r'[\\S]+', min_df= 10)\n",
    "y_train = count_vect.fit_transform(Y_train).toarray()\n",
    "\n",
    "# y_test = count_vect.transform(Y_test).toarray()\n"
   ]
  },
  {
   "cell_type": "code",
   "execution_count": 8,
   "metadata": {},
   "outputs": [],
   "source": [
    "# X_train, X_test, Y_train, Y_test = train_test_split(x_train_pca, y_train, \n",
    "#     train_size= 0.7, random_state= 42)"
   ]
  },
  {
   "cell_type": "code",
   "execution_count": 9,
   "metadata": {},
   "outputs": [],
   "source": [
    "# from sklearn.model_selection import KFold\n",
    "\n",
    "# skf = KFold()\n",
    "# for train_idx, test_idx in skf.split(x_train_pca, y_train):\n",
    "#     X_train, X_test = x_train_pca[train_idx], x_train_pca[test_idx]\n",
    "#     Y_train, Y_test = y_train[train_idx], y_train[test_idx]"
   ]
  },
  {
   "cell_type": "code",
   "execution_count": 10,
   "metadata": {},
   "outputs": [],
   "source": [
    "def scoring_function(clf, X, y):\n",
    "    y_pred = clf.predict_proba(X)\n",
    "\n",
    "    results_preds = np.zeros(y_pred.shape)\n",
    "    pred_sorted = np.sort(y_pred, axis= 1)\n",
    "    diff = pred_sorted[:, -1] - np.log10(pred_sorted[:, -1] +1)\n",
    "    results_preds = np.where(y_pred > \n",
    "        diff.reshape(-1, 1), 1, 0)\n",
    "\n",
    "    return np.mean(y == results_preds)"
   ]
  },
  {
   "cell_type": "code",
   "execution_count": 11,
   "metadata": {},
   "outputs": [],
   "source": [
    "def splitting(CV, clf, X, y):\n",
    "    scores = []\n",
    "    for train_idx, test_idx in CV.split(X, y):\n",
    "        XX_train, XX_test = x_train_pca[train_idx], x_train_pca[test_idx]\n",
    "        yy_train, yy_test = y[train_idx], y[test_idx]\n",
    "\n",
    "        clf.fit(XX_train, yy_train)\n",
    "        scores.append(scoring_function(clf, XX_test, yy_test))\n",
    "\n",
    "    return np.mean(scores)"
   ]
  },
  {
   "cell_type": "code",
   "execution_count": 12,
   "metadata": {},
   "outputs": [
    {
     "name": "stdout",
     "output_type": "stream",
     "text": [
      "modified_huber\n",
      "\t None\n",
      "\t\t l2\n",
      "\t\t l1\n",
      "\t\t elasticnet\n",
      "\t balanced\n",
      "\t\t l2\n",
      "\t\t l1\n",
      "\t\t elasticnet\n",
      "log\n",
      "\t None\n",
      "\t\t l2\n",
      "\t\t l1\n",
      "\t\t elasticnet\n",
      "\t balanced\n",
      "\t\t l2\n",
      "\t\t l1\n",
      "\t\t elasticnet\n"
     ]
    }
   ],
   "source": [
    "from sklearn.multiclass import OneVsRestClassifier\n",
    "from sklearn.linear_model import SGDClassifier\n",
    "from sklearn.model_selection import cross_val_score #, GridSearchCV, RandomizedSearchCV\n",
    "# from sklearn.metrics import make_scorer\n",
    "# from sklearn.pipeline import Pipeline\n",
    "from sklearn.model_selection import ShuffleSplit #, KFold\n",
    "\n",
    "results = {\"score\": 0, \"loss\": \"\", \"class_weight\": \"\", \"penalty\": \"\", \n",
    "    \"alpha\": 0, \"l1_ratio\": 0}\n",
    "\n",
    "CV = ShuffleSplit(n_splits= 3, train_size= 0.75, random_state= 42)\n",
    "\n",
    "_loss = [\"modified_huber\", \"log\"] \n",
    "_penalty = [\"l2\", \"l1\", \"elasticnet\"]\n",
    "_alpha = np.logspace(-4, 0, 5) \n",
    "_l1_ratio = np.linspace(0, 1, 5)\n",
    "_class_weight = [None, \"balanced\"]\n",
    "\n",
    "for loss in _loss:\n",
    "    print(loss)\n",
    "    for class_weight in _class_weight:\n",
    "        print(\"\\t\",class_weight)\n",
    "        for penalty in _penalty:\n",
    "            print(\"\\t\\t\", penalty)\n",
    "            for alpha in _alpha:\n",
    "                if penalty in [\"elasticnet\"]:\n",
    "                    for l1_ratio in _l1_ratio:\n",
    "                        clf = OneVsRestClassifier(SGDClassifier(loss= loss, class_weight= class_weight, \n",
    "                            penalty= penalty, alpha= alpha, l1_ratio= l1_ratio, early_stopping= True, \n",
    "                            random_state= 42))\n",
    "                        score = splitting(CV, clf, x_train_pca, y_train)\n",
    "                        if score > results[\"score\"]:\n",
    "                            results[\"score\"] = score\n",
    "                            results[\"loss\"] = loss\n",
    "                            results[\"class_weight\"] = class_weight\n",
    "                            results[\"penalty\"] = penalty\n",
    "                            results[\"alpha\"] = alpha\n",
    "                            results[\"l1_ratio\"] = l1_ratio\n",
    "                else:\n",
    "                    clf = OneVsRestClassifier(SGDClassifier(loss= loss, class_weight= class_weight, \n",
    "                        penalty= penalty, alpha= alpha, early_stopping= True, random_state= 42))\n",
    "                    score = splitting(CV, clf, x_train_pca, y_train)\n",
    "                    if score > results[\"score\"]:\n",
    "                        results[\"score\"] = score\n",
    "                        results[\"loss\"] = loss\n",
    "                        results[\"class_weight\"] = class_weight\n",
    "                        results[\"penalty\"] = penalty\n",
    "                        results[\"alpha\"] = alpha\n",
    "                        results[\"l1_ratio\"] = 0.15\n"
   ]
  },
  {
   "cell_type": "code",
   "execution_count": 13,
   "metadata": {},
   "outputs": [
    {
     "data": {
      "text/plain": [
       "{'score': 0.9912492131616596,\n",
       " 'loss': 'modified_huber',\n",
       " 'class_weight': None,\n",
       " 'penalty': 'l1',\n",
       " 'alpha': 0.0001,\n",
       " 'l1_ratio': 0.15}"
      ]
     },
     "execution_count": 13,
     "metadata": {},
     "output_type": "execute_result"
    }
   ],
   "source": [
    "results"
   ]
  },
  {
   "cell_type": "markdown",
   "metadata": {},
   "source": [
    "'score': 0.9919314591700134,\n",
    " 'loss': 'modified_huber',\n",
    " 'class_weight': None,\n",
    " 'penalty': 'l1',\n",
    " 'alpha': 0.0001,\n",
    " 'l1_ratio': 0.15"
   ]
  },
  {
   "cell_type": "code",
   "execution_count": 15,
   "metadata": {},
   "outputs": [
    {
     "name": "stdout",
     "output_type": "stream",
     "text": [
      "Fitting 3 folds for each of 10 candidates, totalling 30 fits\n"
     ]
    },
    {
     "ename": "TypeError",
     "evalue": "scoring_function() missing 1 required positional argument: 'y'",
     "output_type": "error",
     "traceback": [
      "\u001b[1;31m---------------------------------------------------------------------------\u001b[0m",
      "\u001b[1;31m_RemoteTraceback\u001b[0m                          Traceback (most recent call last)",
      "\u001b[1;31m_RemoteTraceback\u001b[0m: \n\"\"\"\nTraceback (most recent call last):\n  File \"C:\\Users\\nanar\\AppData\\Local\\Packages\\PythonSoftwareFoundation.Python.3.9_qbz5n2kfra8p0\\LocalCache\\local-packages\\Python39\\site-packages\\joblib\\externals\\loky\\process_executor.py\", line 436, in _process_worker\n    r = call_item()\n  File \"C:\\Users\\nanar\\AppData\\Local\\Packages\\PythonSoftwareFoundation.Python.3.9_qbz5n2kfra8p0\\LocalCache\\local-packages\\Python39\\site-packages\\joblib\\externals\\loky\\process_executor.py\", line 288, in __call__\n    return self.fn(*self.args, **self.kwargs)\n  File \"C:\\Users\\nanar\\AppData\\Local\\Packages\\PythonSoftwareFoundation.Python.3.9_qbz5n2kfra8p0\\LocalCache\\local-packages\\Python39\\site-packages\\joblib\\_parallel_backends.py\", line 595, in __call__\n    return self.func(*args, **kwargs)\n  File \"C:\\Users\\nanar\\AppData\\Local\\Packages\\PythonSoftwareFoundation.Python.3.9_qbz5n2kfra8p0\\LocalCache\\local-packages\\Python39\\site-packages\\joblib\\parallel.py\", line 262, in __call__\n    return [func(*args, **kwargs)\n  File \"C:\\Users\\nanar\\AppData\\Local\\Packages\\PythonSoftwareFoundation.Python.3.9_qbz5n2kfra8p0\\LocalCache\\local-packages\\Python39\\site-packages\\joblib\\parallel.py\", line 262, in <listcomp>\n    return [func(*args, **kwargs)\n  File \"C:\\Users\\nanar\\AppData\\Local\\Packages\\PythonSoftwareFoundation.Python.3.9_qbz5n2kfra8p0\\LocalCache\\local-packages\\Python39\\site-packages\\sklearn\\utils\\fixes.py\", line 211, in __call__\n    return self.function(*args, **kwargs)\n  File \"C:\\Users\\nanar\\AppData\\Local\\Packages\\PythonSoftwareFoundation.Python.3.9_qbz5n2kfra8p0\\LocalCache\\local-packages\\Python39\\site-packages\\sklearn\\model_selection\\_validation.py\", line 703, in _fit_and_score\n    test_scores = _score(estimator, X_test, y_test, scorer, error_score)\n  File \"C:\\Users\\nanar\\AppData\\Local\\Packages\\PythonSoftwareFoundation.Python.3.9_qbz5n2kfra8p0\\LocalCache\\local-packages\\Python39\\site-packages\\sklearn\\model_selection\\_validation.py\", line 762, in _score\n    scores = scorer(estimator, X_test, y_test)\n  File \"C:\\Users\\nanar\\AppData\\Local\\Packages\\PythonSoftwareFoundation.Python.3.9_qbz5n2kfra8p0\\LocalCache\\local-packages\\Python39\\site-packages\\sklearn\\metrics\\_scorer.py\", line 216, in __call__\n    return self._score(\n  File \"C:\\Users\\nanar\\AppData\\Local\\Packages\\PythonSoftwareFoundation.Python.3.9_qbz5n2kfra8p0\\LocalCache\\local-packages\\Python39\\site-packages\\sklearn\\metrics\\_scorer.py\", line 264, in _score\n    return self._sign * self._score_func(y_true, y_pred, **self._kwargs)\nTypeError: scoring_function() missing 1 required positional argument: 'y'\n\"\"\"",
      "\nThe above exception was the direct cause of the following exception:\n",
      "\u001b[1;31mTypeError\u001b[0m                                 Traceback (most recent call last)",
      "\u001b[1;32m~\\AppData\\Local\\Temp/ipykernel_8596/1512693107.py\u001b[0m in \u001b[0;36m<module>\u001b[1;34m\u001b[0m\n\u001b[0;32m     20\u001b[0m     scoring= make_scorer(scoring_function))\n\u001b[0;32m     21\u001b[0m \u001b[1;33m\u001b[0m\u001b[0m\n\u001b[1;32m---> 22\u001b[1;33m \u001b[0mgcv\u001b[0m\u001b[1;33m.\u001b[0m\u001b[0mfit\u001b[0m\u001b[1;33m(\u001b[0m\u001b[0mx_train_pca\u001b[0m\u001b[1;33m,\u001b[0m \u001b[0my_train\u001b[0m\u001b[1;33m)\u001b[0m\u001b[1;33m\u001b[0m\u001b[1;33m\u001b[0m\u001b[0m\n\u001b[0m\u001b[0;32m     23\u001b[0m \u001b[1;33m\u001b[0m\u001b[0m\n\u001b[0;32m     24\u001b[0m \u001b[0mprint\u001b[0m\u001b[1;33m(\u001b[0m\u001b[1;34mf\"Meilleurs hyperparamètres:\"\u001b[0m\u001b[1;33m)\u001b[0m\u001b[1;33m\u001b[0m\u001b[1;33m\u001b[0m\u001b[0m\n",
      "\u001b[1;32m~\\AppData\\Local\\Packages\\PythonSoftwareFoundation.Python.3.9_qbz5n2kfra8p0\\LocalCache\\local-packages\\Python39\\site-packages\\sklearn\\model_selection\\_search.py\u001b[0m in \u001b[0;36mfit\u001b[1;34m(self, X, y, groups, **fit_params)\u001b[0m\n\u001b[0;32m    889\u001b[0m                 \u001b[1;32mreturn\u001b[0m \u001b[0mresults\u001b[0m\u001b[1;33m\u001b[0m\u001b[1;33m\u001b[0m\u001b[0m\n\u001b[0;32m    890\u001b[0m \u001b[1;33m\u001b[0m\u001b[0m\n\u001b[1;32m--> 891\u001b[1;33m             \u001b[0mself\u001b[0m\u001b[1;33m.\u001b[0m\u001b[0m_run_search\u001b[0m\u001b[1;33m(\u001b[0m\u001b[0mevaluate_candidates\u001b[0m\u001b[1;33m)\u001b[0m\u001b[1;33m\u001b[0m\u001b[1;33m\u001b[0m\u001b[0m\n\u001b[0m\u001b[0;32m    892\u001b[0m \u001b[1;33m\u001b[0m\u001b[0m\n\u001b[0;32m    893\u001b[0m             \u001b[1;31m# multimetric is determined here because in the case of a callable\u001b[0m\u001b[1;33m\u001b[0m\u001b[1;33m\u001b[0m\u001b[0m\n",
      "\u001b[1;32m~\\AppData\\Local\\Packages\\PythonSoftwareFoundation.Python.3.9_qbz5n2kfra8p0\\LocalCache\\local-packages\\Python39\\site-packages\\sklearn\\model_selection\\_search.py\u001b[0m in \u001b[0;36m_run_search\u001b[1;34m(self, evaluate_candidates)\u001b[0m\n\u001b[0;32m   1764\u001b[0m     \u001b[1;32mdef\u001b[0m \u001b[0m_run_search\u001b[0m\u001b[1;33m(\u001b[0m\u001b[0mself\u001b[0m\u001b[1;33m,\u001b[0m \u001b[0mevaluate_candidates\u001b[0m\u001b[1;33m)\u001b[0m\u001b[1;33m:\u001b[0m\u001b[1;33m\u001b[0m\u001b[1;33m\u001b[0m\u001b[0m\n\u001b[0;32m   1765\u001b[0m         \u001b[1;34m\"\"\"Search n_iter candidates from param_distributions\"\"\"\u001b[0m\u001b[1;33m\u001b[0m\u001b[1;33m\u001b[0m\u001b[0m\n\u001b[1;32m-> 1766\u001b[1;33m         evaluate_candidates(\n\u001b[0m\u001b[0;32m   1767\u001b[0m             ParameterSampler(\n\u001b[0;32m   1768\u001b[0m                 \u001b[0mself\u001b[0m\u001b[1;33m.\u001b[0m\u001b[0mparam_distributions\u001b[0m\u001b[1;33m,\u001b[0m \u001b[0mself\u001b[0m\u001b[1;33m.\u001b[0m\u001b[0mn_iter\u001b[0m\u001b[1;33m,\u001b[0m \u001b[0mrandom_state\u001b[0m\u001b[1;33m=\u001b[0m\u001b[0mself\u001b[0m\u001b[1;33m.\u001b[0m\u001b[0mrandom_state\u001b[0m\u001b[1;33m\u001b[0m\u001b[1;33m\u001b[0m\u001b[0m\n",
      "\u001b[1;32m~\\AppData\\Local\\Packages\\PythonSoftwareFoundation.Python.3.9_qbz5n2kfra8p0\\LocalCache\\local-packages\\Python39\\site-packages\\sklearn\\model_selection\\_search.py\u001b[0m in \u001b[0;36mevaluate_candidates\u001b[1;34m(candidate_params, cv, more_results)\u001b[0m\n\u001b[0;32m    836\u001b[0m                     )\n\u001b[0;32m    837\u001b[0m \u001b[1;33m\u001b[0m\u001b[0m\n\u001b[1;32m--> 838\u001b[1;33m                 out = parallel(\n\u001b[0m\u001b[0;32m    839\u001b[0m                     delayed(_fit_and_score)(\n\u001b[0;32m    840\u001b[0m                         \u001b[0mclone\u001b[0m\u001b[1;33m(\u001b[0m\u001b[0mbase_estimator\u001b[0m\u001b[1;33m)\u001b[0m\u001b[1;33m,\u001b[0m\u001b[1;33m\u001b[0m\u001b[1;33m\u001b[0m\u001b[0m\n",
      "\u001b[1;32m~\\AppData\\Local\\Packages\\PythonSoftwareFoundation.Python.3.9_qbz5n2kfra8p0\\LocalCache\\local-packages\\Python39\\site-packages\\joblib\\parallel.py\u001b[0m in \u001b[0;36m__call__\u001b[1;34m(self, iterable)\u001b[0m\n\u001b[0;32m   1054\u001b[0m \u001b[1;33m\u001b[0m\u001b[0m\n\u001b[0;32m   1055\u001b[0m             \u001b[1;32mwith\u001b[0m \u001b[0mself\u001b[0m\u001b[1;33m.\u001b[0m\u001b[0m_backend\u001b[0m\u001b[1;33m.\u001b[0m\u001b[0mretrieval_context\u001b[0m\u001b[1;33m(\u001b[0m\u001b[1;33m)\u001b[0m\u001b[1;33m:\u001b[0m\u001b[1;33m\u001b[0m\u001b[1;33m\u001b[0m\u001b[0m\n\u001b[1;32m-> 1056\u001b[1;33m                 \u001b[0mself\u001b[0m\u001b[1;33m.\u001b[0m\u001b[0mretrieve\u001b[0m\u001b[1;33m(\u001b[0m\u001b[1;33m)\u001b[0m\u001b[1;33m\u001b[0m\u001b[1;33m\u001b[0m\u001b[0m\n\u001b[0m\u001b[0;32m   1057\u001b[0m             \u001b[1;31m# Make sure that we get a last message telling us we are done\u001b[0m\u001b[1;33m\u001b[0m\u001b[1;33m\u001b[0m\u001b[0m\n\u001b[0;32m   1058\u001b[0m             \u001b[0melapsed_time\u001b[0m \u001b[1;33m=\u001b[0m \u001b[0mtime\u001b[0m\u001b[1;33m.\u001b[0m\u001b[0mtime\u001b[0m\u001b[1;33m(\u001b[0m\u001b[1;33m)\u001b[0m \u001b[1;33m-\u001b[0m \u001b[0mself\u001b[0m\u001b[1;33m.\u001b[0m\u001b[0m_start_time\u001b[0m\u001b[1;33m\u001b[0m\u001b[1;33m\u001b[0m\u001b[0m\n",
      "\u001b[1;32m~\\AppData\\Local\\Packages\\PythonSoftwareFoundation.Python.3.9_qbz5n2kfra8p0\\LocalCache\\local-packages\\Python39\\site-packages\\joblib\\parallel.py\u001b[0m in \u001b[0;36mretrieve\u001b[1;34m(self)\u001b[0m\n\u001b[0;32m    933\u001b[0m             \u001b[1;32mtry\u001b[0m\u001b[1;33m:\u001b[0m\u001b[1;33m\u001b[0m\u001b[1;33m\u001b[0m\u001b[0m\n\u001b[0;32m    934\u001b[0m                 \u001b[1;32mif\u001b[0m \u001b[0mgetattr\u001b[0m\u001b[1;33m(\u001b[0m\u001b[0mself\u001b[0m\u001b[1;33m.\u001b[0m\u001b[0m_backend\u001b[0m\u001b[1;33m,\u001b[0m \u001b[1;34m'supports_timeout'\u001b[0m\u001b[1;33m,\u001b[0m \u001b[1;32mFalse\u001b[0m\u001b[1;33m)\u001b[0m\u001b[1;33m:\u001b[0m\u001b[1;33m\u001b[0m\u001b[1;33m\u001b[0m\u001b[0m\n\u001b[1;32m--> 935\u001b[1;33m                     \u001b[0mself\u001b[0m\u001b[1;33m.\u001b[0m\u001b[0m_output\u001b[0m\u001b[1;33m.\u001b[0m\u001b[0mextend\u001b[0m\u001b[1;33m(\u001b[0m\u001b[0mjob\u001b[0m\u001b[1;33m.\u001b[0m\u001b[0mget\u001b[0m\u001b[1;33m(\u001b[0m\u001b[0mtimeout\u001b[0m\u001b[1;33m=\u001b[0m\u001b[0mself\u001b[0m\u001b[1;33m.\u001b[0m\u001b[0mtimeout\u001b[0m\u001b[1;33m)\u001b[0m\u001b[1;33m)\u001b[0m\u001b[1;33m\u001b[0m\u001b[1;33m\u001b[0m\u001b[0m\n\u001b[0m\u001b[0;32m    936\u001b[0m                 \u001b[1;32melse\u001b[0m\u001b[1;33m:\u001b[0m\u001b[1;33m\u001b[0m\u001b[1;33m\u001b[0m\u001b[0m\n\u001b[0;32m    937\u001b[0m                     \u001b[0mself\u001b[0m\u001b[1;33m.\u001b[0m\u001b[0m_output\u001b[0m\u001b[1;33m.\u001b[0m\u001b[0mextend\u001b[0m\u001b[1;33m(\u001b[0m\u001b[0mjob\u001b[0m\u001b[1;33m.\u001b[0m\u001b[0mget\u001b[0m\u001b[1;33m(\u001b[0m\u001b[1;33m)\u001b[0m\u001b[1;33m)\u001b[0m\u001b[1;33m\u001b[0m\u001b[1;33m\u001b[0m\u001b[0m\n",
      "\u001b[1;32m~\\AppData\\Local\\Packages\\PythonSoftwareFoundation.Python.3.9_qbz5n2kfra8p0\\LocalCache\\local-packages\\Python39\\site-packages\\joblib\\_parallel_backends.py\u001b[0m in \u001b[0;36mwrap_future_result\u001b[1;34m(future, timeout)\u001b[0m\n\u001b[0;32m    540\u001b[0m         AsyncResults.get from multiprocessing.\"\"\"\n\u001b[0;32m    541\u001b[0m         \u001b[1;32mtry\u001b[0m\u001b[1;33m:\u001b[0m\u001b[1;33m\u001b[0m\u001b[1;33m\u001b[0m\u001b[0m\n\u001b[1;32m--> 542\u001b[1;33m             \u001b[1;32mreturn\u001b[0m \u001b[0mfuture\u001b[0m\u001b[1;33m.\u001b[0m\u001b[0mresult\u001b[0m\u001b[1;33m(\u001b[0m\u001b[0mtimeout\u001b[0m\u001b[1;33m=\u001b[0m\u001b[0mtimeout\u001b[0m\u001b[1;33m)\u001b[0m\u001b[1;33m\u001b[0m\u001b[1;33m\u001b[0m\u001b[0m\n\u001b[0m\u001b[0;32m    543\u001b[0m         \u001b[1;32mexcept\u001b[0m \u001b[0mCfTimeoutError\u001b[0m \u001b[1;32mas\u001b[0m \u001b[0me\u001b[0m\u001b[1;33m:\u001b[0m\u001b[1;33m\u001b[0m\u001b[1;33m\u001b[0m\u001b[0m\n\u001b[0;32m    544\u001b[0m             \u001b[1;32mraise\u001b[0m \u001b[0mTimeoutError\u001b[0m \u001b[1;32mfrom\u001b[0m \u001b[0me\u001b[0m\u001b[1;33m\u001b[0m\u001b[1;33m\u001b[0m\u001b[0m\n",
      "\u001b[1;32mC:\\Program Files\\WindowsApps\\PythonSoftwareFoundation.Python.3.9_3.9.2544.0_x64__qbz5n2kfra8p0\\lib\\concurrent\\futures\\_base.py\u001b[0m in \u001b[0;36mresult\u001b[1;34m(self, timeout)\u001b[0m\n\u001b[0;32m    443\u001b[0m                     \u001b[1;32mraise\u001b[0m \u001b[0mCancelledError\u001b[0m\u001b[1;33m(\u001b[0m\u001b[1;33m)\u001b[0m\u001b[1;33m\u001b[0m\u001b[1;33m\u001b[0m\u001b[0m\n\u001b[0;32m    444\u001b[0m                 \u001b[1;32melif\u001b[0m \u001b[0mself\u001b[0m\u001b[1;33m.\u001b[0m\u001b[0m_state\u001b[0m \u001b[1;33m==\u001b[0m \u001b[0mFINISHED\u001b[0m\u001b[1;33m:\u001b[0m\u001b[1;33m\u001b[0m\u001b[1;33m\u001b[0m\u001b[0m\n\u001b[1;32m--> 445\u001b[1;33m                     \u001b[1;32mreturn\u001b[0m \u001b[0mself\u001b[0m\u001b[1;33m.\u001b[0m\u001b[0m__get_result\u001b[0m\u001b[1;33m(\u001b[0m\u001b[1;33m)\u001b[0m\u001b[1;33m\u001b[0m\u001b[1;33m\u001b[0m\u001b[0m\n\u001b[0m\u001b[0;32m    446\u001b[0m                 \u001b[1;32melse\u001b[0m\u001b[1;33m:\u001b[0m\u001b[1;33m\u001b[0m\u001b[1;33m\u001b[0m\u001b[0m\n\u001b[0;32m    447\u001b[0m                     \u001b[1;32mraise\u001b[0m \u001b[0mTimeoutError\u001b[0m\u001b[1;33m(\u001b[0m\u001b[1;33m)\u001b[0m\u001b[1;33m\u001b[0m\u001b[1;33m\u001b[0m\u001b[0m\n",
      "\u001b[1;32mC:\\Program Files\\WindowsApps\\PythonSoftwareFoundation.Python.3.9_3.9.2544.0_x64__qbz5n2kfra8p0\\lib\\concurrent\\futures\\_base.py\u001b[0m in \u001b[0;36m__get_result\u001b[1;34m(self)\u001b[0m\n\u001b[0;32m    388\u001b[0m         \u001b[1;32mif\u001b[0m \u001b[0mself\u001b[0m\u001b[1;33m.\u001b[0m\u001b[0m_exception\u001b[0m\u001b[1;33m:\u001b[0m\u001b[1;33m\u001b[0m\u001b[1;33m\u001b[0m\u001b[0m\n\u001b[0;32m    389\u001b[0m             \u001b[1;32mtry\u001b[0m\u001b[1;33m:\u001b[0m\u001b[1;33m\u001b[0m\u001b[1;33m\u001b[0m\u001b[0m\n\u001b[1;32m--> 390\u001b[1;33m                 \u001b[1;32mraise\u001b[0m \u001b[0mself\u001b[0m\u001b[1;33m.\u001b[0m\u001b[0m_exception\u001b[0m\u001b[1;33m\u001b[0m\u001b[1;33m\u001b[0m\u001b[0m\n\u001b[0m\u001b[0;32m    391\u001b[0m             \u001b[1;32mfinally\u001b[0m\u001b[1;33m:\u001b[0m\u001b[1;33m\u001b[0m\u001b[1;33m\u001b[0m\u001b[0m\n\u001b[0;32m    392\u001b[0m                 \u001b[1;31m# Break a reference cycle with the exception in self._exception\u001b[0m\u001b[1;33m\u001b[0m\u001b[1;33m\u001b[0m\u001b[0m\n",
      "\u001b[1;31mTypeError\u001b[0m: scoring_function() missing 1 required positional argument: 'y'"
     ]
    }
   ],
   "source": [
    "# from sklearn.multiclass import OneVsRestClassifier\n",
    "# from sklearn.linear_model import SGDClassifier\n",
    "# from sklearn.model_selection import GridSearchCV, RandomizedSearchCV\n",
    "# from sklearn.metrics import make_scorer\n",
    "# from sklearn.pipeline import Pipeline\n",
    "# from sklearn.model_selection import ShuffleSplit #, KFold\n",
    "\n",
    "# pipe = Pipeline(steps=[(\"ovr\", OneVsRestClassifier(SGDClassifier()))])\n",
    "\n",
    "# params = {\"ovr\": [OneVsRestClassifier(SGDClassifier())],\n",
    "#     \"ovr__estimator\": [SGDClassifier()], \"ovr__estimator__loss\": [\"modified_huber\", \"log\"], \n",
    "#     \"ovr__estimator__penalty\": [\"l2\", \"l1\", \"elasticnet\"], \"ovr__estimator__alpha\": np.logspace(-4, 0, 5), \n",
    "#     \"ovr__estimator__l1_ratio\": np.linspace(0, 1, 5), \"ovr__estimator__random_state\": [42], \n",
    "#     \"ovr__estimator__early_stopping\": [True], \"ovr__estimator__class_weight\": [None, \"balanced\"], \n",
    "#     \"ovr__estimator__verbose\": [2]}\n",
    "\n",
    "# CV = ShuffleSplit(n_splits= 3, train_size= 0.75, random_state= 42)\n",
    "\n",
    "# gcv = RandomizedSearchCV(pipe, params, cv= CV, n_jobs= -1, verbose= 1, error_score= \"raise\", \n",
    "#     scoring= make_scorer(scoring_function))\n",
    "\n",
    "# gcv.fit(x_train_pca, y_train)\n",
    "\n",
    "# print(f\"Meilleurs hyperparamètres:\")\n",
    "# print(gcv.best_params_)\n",
    "# print(f\"Meilleur score:\")\n",
    "# print(gcv.best_score_)"
   ]
  }
 ],
 "metadata": {
  "interpreter": {
   "hash": "c41a7b1d73be963b12274ea26e97c36183a8e874bdf8628a8c7c44cf12df08ab"
  },
  "kernelspec": {
   "display_name": "Python 3.9.9 64-bit (windows store)",
   "language": "python",
   "name": "python3"
  },
  "language_info": {
   "codemirror_mode": {
    "name": "ipython",
    "version": 3
   },
   "file_extension": ".py",
   "mimetype": "text/x-python",
   "name": "python",
   "nbconvert_exporter": "python",
   "pygments_lexer": "ipython3",
   "version": "3.9.9"
  },
  "orig_nbformat": 4
 },
 "nbformat": 4,
 "nbformat_minor": 2
}
